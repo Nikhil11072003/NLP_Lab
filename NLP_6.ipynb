{
  "nbformat": 4,
  "nbformat_minor": 0,
  "metadata": {
    "colab": {
      "provenance": [],
      "authorship_tag": "ABX9TyMFvjWjDxtOa0dm5PLDCrHb",
      "include_colab_link": true
    },
    "kernelspec": {
      "name": "python3",
      "display_name": "Python 3"
    },
    "language_info": {
      "name": "python"
    }
  },
  "cells": [
    {
      "cell_type": "markdown",
      "metadata": {
        "id": "view-in-github",
        "colab_type": "text"
      },
      "source": [
        "<a href=\"https://colab.research.google.com/github/Nikhil11072003/NLP_Lab/blob/main/NLP_6.ipynb\" target=\"_parent\"><img src=\"https://colab.research.google.com/assets/colab-badge.svg\" alt=\"Open In Colab\"/></a>"
      ]
    },
    {
      "cell_type": "code",
      "source": [
        "nltk.download('punkt')\n",
        "nltk.download('averaged_perceptron_tagger')"
      ],
      "metadata": {
        "colab": {
          "base_uri": "https://localhost:8080/"
        },
        "id": "WplXNnkZtZYj",
        "outputId": "1cbc36cb-fbad-4340-854b-778e5870bd76"
      },
      "execution_count": 4,
      "outputs": [
        {
          "output_type": "stream",
          "name": "stderr",
          "text": [
            "[nltk_data] Downloading package punkt to /root/nltk_data...\n",
            "[nltk_data]   Unzipping tokenizers/punkt.zip.\n",
            "[nltk_data] Downloading package averaged_perceptron_tagger to\n",
            "[nltk_data]     /root/nltk_data...\n",
            "[nltk_data]   Unzipping taggers/averaged_perceptron_tagger.zip.\n"
          ]
        },
        {
          "output_type": "execute_result",
          "data": {
            "text/plain": [
              "True"
            ]
          },
          "metadata": {},
          "execution_count": 4
        }
      ]
    },
    {
      "cell_type": "code",
      "source": [
        "!pip install nltk"
      ],
      "metadata": {
        "colab": {
          "base_uri": "https://localhost:8080/"
        },
        "id": "POi7JNJAs9Nq",
        "outputId": "8a1cb2f5-1b26-4282-ab18-6aa4deef6321"
      },
      "execution_count": 2,
      "outputs": [
        {
          "output_type": "stream",
          "name": "stdout",
          "text": [
            "Requirement already satisfied: nltk in /usr/local/lib/python3.10/dist-packages (3.8.1)\n",
            "Requirement already satisfied: click in /usr/local/lib/python3.10/dist-packages (from nltk) (8.1.7)\n",
            "Requirement already satisfied: joblib in /usr/local/lib/python3.10/dist-packages (from nltk) (1.4.2)\n",
            "Requirement already satisfied: regex>=2021.8.3 in /usr/local/lib/python3.10/dist-packages (from nltk) (2024.5.15)\n",
            "Requirement already satisfied: tqdm in /usr/local/lib/python3.10/dist-packages (from nltk) (4.66.5)\n"
          ]
        }
      ]
    },
    {
      "cell_type": "code",
      "source": [
        "import requests\n",
        "from bs4 import BeautifulSoup\n",
        "import nltk\n",
        "from nltk.tokenize import word_tokenize\n",
        "from nltk import pos_tag\n",
        "from collections import Counter"
      ],
      "metadata": {
        "id": "re9Za53exNNq"
      },
      "execution_count": 10,
      "outputs": []
    },
    {
      "cell_type": "code",
      "source": [
        "# Function to fetch and parse text from a URL\n",
        "def fetch_text_from_url(url):\n",
        "    try:\n",
        "\n",
        "        response = requests.get(url)\n",
        "        response.raise_for_status()  # Raise an error for bad status\n",
        "        # Parse the HTML content using BeautifulSoup\n",
        "        soup = BeautifulSoup(response.text, 'html.parser')\n",
        "        # Extract text from the soup object\n",
        "        text = soup.get_text()\n",
        "        return text\n",
        "    except requests.RequestException as e:\n",
        "        print(f\"Error fetching the URL: {e}\")\n",
        "        return \"\""
      ],
      "metadata": {
        "id": "wMPk1JeBxSXh"
      },
      "execution_count": 11,
      "outputs": []
    },
    {
      "cell_type": "code",
      "source": [
        "url = 'https://example.com'\n",
        "\n",
        "# Fetch and extract text from the URL\n",
        "text = fetch_text_from_url(url)\n",
        "\n",
        "if text:\n",
        "    # Tokenize the text\n",
        "    tokens = word_tokenize(text)\n",
        "\n",
        "    # Get POS tags for the tokens\n",
        "    pos_tags = pos_tag(tokens)\n",
        "\n",
        "    # Initialize counters\n",
        "    noun_tokens = []\n",
        "    number_tokens = []\n",
        "    tag_count = Counter()\n",
        "\n",
        "    # Process each token and its POS tag\n",
        "    for token, tag in pos_tags:\n",
        "        tag_count[tag] += 1\n",
        "        if tag.startswith('NN'):  # Nouns (NN, NNS, NNP, NNPS)\n",
        "            noun_tokens.append(token)\n",
        "        elif tag == 'CD':  # Numbers\n",
        "            number_tokens.append(token)\n",
        "\n",
        "    # Print results\n",
        "    print(f\"Number of nouns: {len(noun_tokens)}\")\n",
        "    print(f\"Number of numbers: {len(number_tokens)}\")\n",
        "    print(\"\\nNouns:\")\n",
        "    print(noun_tokens)\n",
        "    print(\"\\nNumbers:\")\n",
        "    print(number_tokens)\n",
        "    print(\"\\nTag Count:\")\n",
        "    for tag, count in tag_count.items():\n",
        "        print(f\"{tag}: {count}\")\n",
        "\n",
        "    # Print POS tags for each word\n",
        "    print(\"\\nPOS Tags for each word:\")\n",
        "    for token, tag in pos_tags:\n",
        "        print(f\"{token}: {tag}\")\n",
        "else:\n",
        "    print(\"No text extracted from the URL.\")"
      ],
      "metadata": {
        "colab": {
          "base_uri": "https://localhost:8080/"
        },
        "id": "QMyGSYTIwM5r",
        "outputId": "ddc16ca7-d36b-46ba-feff-88fc3b39f481"
      },
      "execution_count": 16,
      "outputs": [
        {
          "output_type": "stream",
          "name": "stdout",
          "text": [
            "Number of nouns: 13\n",
            "Number of numbers: 0\n",
            "\n",
            "Nouns:\n",
            "['Example', 'Domain', 'Example', 'Domain', 'domain', 'use', 'examples', 'documents', 'domain', 'literature', 'coordination', 'permission', 'information']\n",
            "\n",
            "Numbers:\n",
            "[]\n",
            "\n",
            "Tag Count:\n",
            "NNP: 4\n",
            "DT: 2\n",
            "NN: 7\n",
            "VBZ: 1\n",
            "IN: 6\n",
            "JJ: 2\n",
            "NNS: 2\n",
            ".: 2\n",
            "PRP: 1\n",
            "MD: 1\n",
            "VB: 1\n",
            "CC: 1\n",
            "VBG: 1\n",
            "JJR: 1\n",
            ":: 1\n",
            "\n",
            "POS Tags for each word:\n",
            "Example: NNP\n",
            "Domain: NNP\n",
            "Example: NNP\n",
            "Domain: NNP\n",
            "This: DT\n",
            "domain: NN\n",
            "is: VBZ\n",
            "for: IN\n",
            "use: NN\n",
            "in: IN\n",
            "illustrative: JJ\n",
            "examples: NNS\n",
            "in: IN\n",
            "documents: NNS\n",
            ".: .\n",
            "You: PRP\n",
            "may: MD\n",
            "use: VB\n",
            "this: DT\n",
            "domain: NN\n",
            "in: IN\n",
            "literature: NN\n",
            "without: IN\n",
            "prior: JJ\n",
            "coordination: NN\n",
            "or: CC\n",
            "asking: VBG\n",
            "for: IN\n",
            "permission: NN\n",
            ".: .\n",
            "More: JJR\n",
            "information: NN\n",
            "...: :\n"
          ]
        }
      ]
    },
    {
      "cell_type": "code",
      "source": [],
      "metadata": {
        "id": "gA74GPyGyBAq"
      },
      "execution_count": null,
      "outputs": []
    }
  ]
}