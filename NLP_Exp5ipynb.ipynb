{
  "nbformat": 4,
  "nbformat_minor": 0,
  "metadata": {
    "colab": {
      "provenance": [],
      "authorship_tag": "ABX9TyOXIOi2XOdNfG3AQzL8QlnQ",
      "include_colab_link": true
    },
    "kernelspec": {
      "name": "python3",
      "display_name": "Python 3"
    },
    "language_info": {
      "name": "python"
    }
  },
  "cells": [
    {
      "cell_type": "markdown",
      "metadata": {
        "id": "view-in-github",
        "colab_type": "text"
      },
      "source": [
        "<a href=\"https://colab.research.google.com/github/Nikhil11072003/NLP_Lab/blob/main/NLP_Exp5ipynb.ipynb\" target=\"_parent\"><img src=\"https://colab.research.google.com/assets/colab-badge.svg\" alt=\"Open In Colab\"/></a>"
      ]
    },
    {
      "cell_type": "code",
      "source": [
        "import nltk\n",
        "from nltk import word_tokenize\n",
        "\n",
        "# Download necessary resources\n",
        "nltk.download('punkt')\n",
        "\n",
        "# Input corpus\n",
        "d = input(\"Enter corpus = \")\n",
        "\n",
        "\n",
        "\n"
      ],
      "metadata": {
        "colab": {
          "base_uri": "https://localhost:8080/"
        },
        "id": "oipCYkBPSG2L",
        "outputId": "79e5f811-eeaa-4500-c207-d842088afc9f"
      },
      "execution_count": 2,
      "outputs": [
        {
          "output_type": "stream",
          "name": "stderr",
          "text": [
            "[nltk_data] Downloading package punkt to /root/nltk_data...\n",
            "[nltk_data]   Package punkt is already up-to-date!\n"
          ]
        },
        {
          "name": "stdout",
          "output_type": "stream",
          "text": [
            "Enter corpus = The quick brown fox jumps over the lazy dog.\n"
          ]
        }
      ]
    },
    {
      "cell_type": "code",
      "source": [
        "# Preprocessing function\n",
        "def preprocess(d):\n",
        "    d = d.lower()\n",
        "    d = \"eos \" + d\n",
        "    d = d.replace(\".\", \" eos\")\n",
        "    return d"
      ],
      "metadata": {
        "id": "DI4urjvKS8lU"
      },
      "execution_count": 3,
      "outputs": []
    },
    {
      "cell_type": "code",
      "source": [
        "# Tokenization function\n",
        "def generate_tokens(d):\n",
        "    tokens = word_tokenize(d)\n",
        "    return tokens\n",
        "\n",
        "# Frequency calculation for tokens\n",
        "def generate_tokens_freq(tokens):\n",
        "    dct = {}\n",
        "    for i in tokens:\n",
        "        dct[i] = 0\n",
        "    for i in tokens:\n",
        "        dct[i] += 1\n",
        "    return dct\n",
        "\n",
        "# N-gram generation\n",
        "def generate_ngrams(tokens, k):\n",
        "    l = []\n",
        "    i = 0\n",
        "    while i + k <= len(tokens):\n",
        "        l.append(tokens[i:i + k])\n",
        "        i += 1\n",
        "    return l\n",
        "\n",
        "# Frequency calculation for n-grams\n",
        "def generate_ngram_freq(bigram):\n",
        "    dct1 = {}\n",
        "    for i in bigram:\n",
        "        st = \" \".join(i)\n",
        "        dct1[st] = 0\n",
        "    for i in bigram:\n",
        "        st = \" \".join(i)\n",
        "        dct1[st] += 1\n",
        "    return dct1\n",
        "\n",
        "# Find frequency of a specific n-gram\n",
        "def find1(s, dct1):\n",
        "    return dct1.get(s, 0)\n",
        "\n",
        "\n",
        "\n",
        "\n"
      ],
      "metadata": {
        "id": "qZyu-Nc2SG4i"
      },
      "execution_count": 4,
      "outputs": []
    },
    {
      "cell_type": "code",
      "source": [
        "# Probability table calculation\n",
        "def print_probability_table(distinct_tokens, dct, dct1):\n",
        "    n = len(distinct_tokens)\n",
        "    l = [[] for _ in range(n)]  # Initialize list with empty lists\n",
        "    for i in range(n):\n",
        "        denominator = dct[distinct_tokens[i]]\n",
        "        for j in range(n):\n",
        "            numerator = find1(distinct_tokens[i] + \" \" + distinct_tokens[j], dct1)\n",
        "            l[i].append(float(\"{:.3f}\".format(numerator / denominator)))\n",
        "    return l\n"
      ],
      "metadata": {
        "id": "8bZPMyQpTEiL"
      },
      "execution_count": 5,
      "outputs": []
    },
    {
      "cell_type": "code",
      "source": [
        "# Preprocess the input data\n",
        "d = preprocess(d)\n",
        "print(\"Preprocessed Data corpus = \\n\", d)\n",
        "\n",
        "# Generate tokens and calculate frequencies\n",
        "tokens = generate_tokens(d)\n",
        "distinct_tokens = list(set(sorted(tokens)))\n",
        "print(\"Tokens in the corpus = \\n\", distinct_tokens)\n",
        "\n",
        "dct = generate_tokens_freq(tokens)\n",
        "print(\"Frequency of each tokens = \")\n",
        "for token, freq in dct.items():\n",
        "    print(f\"{token} : {freq}\")"
      ],
      "metadata": {
        "colab": {
          "base_uri": "https://localhost:8080/"
        },
        "id": "OMYxasFxTHFE",
        "outputId": "2fdec300-bd5d-49e3-fe06-f99a2fcc5970"
      },
      "execution_count": 6,
      "outputs": [
        {
          "output_type": "stream",
          "name": "stdout",
          "text": [
            "Preprocessed Data corpus = \n",
            " eos the quick brown fox jumps over the lazy dog eos\n",
            "Tokens in the corpus = \n",
            " ['brown', 'dog', 'the', 'eos', 'jumps', 'over', 'fox', 'quick', 'lazy']\n",
            "Frequency of each tokens = \n",
            "eos : 2\n",
            "the : 2\n",
            "quick : 1\n",
            "brown : 1\n",
            "fox : 1\n",
            "jumps : 1\n",
            "over : 1\n",
            "lazy : 1\n",
            "dog : 1\n"
          ]
        }
      ]
    },
    {
      "cell_type": "code",
      "source": [
        "# Generate bigrams and calculate frequencies\n",
        "bigram = generate_ngrams(tokens, 2)\n",
        "print(\"N-grams generated (Here n is 2) = \")\n",
        "for i in bigram:\n",
        "    print(i)\n",
        "\n",
        "dct1 = generate_ngram_freq(bigram)\n",
        "print(\"Frequency of n-grams = \")\n",
        "for ngram, freq in dct1.items():\n",
        "    print(f\"{ngram} : {freq}\")\n",
        "\n",
        "# Calculate and print the probability table\n",
        "print(\"Probability table = \\n\")\n",
        "probability_table = print_probability_table(distinct_tokens, dct, dct1)\n",
        "\n",
        "n = len(distinct_tokens)\n",
        "print(\"\\t\", end=\"\")\n",
        "for i in range(n):\n",
        "    print(distinct_tokens[i], end=\"\\t\")\n",
        "print()\n",
        "\n",
        "for i in range(n):\n",
        "    print(distinct_tokens[i], end=\"\\t\")\n",
        "    for j in range(n):\n",
        "        print(probability_table[i][j], end=\"\\t\")\n",
        "    print()\n"
      ],
      "metadata": {
        "colab": {
          "base_uri": "https://localhost:8080/"
        },
        "id": "BWCuavxVTAIT",
        "outputId": "badf9cea-1503-432d-ea89-5c6fed40dd8b"
      },
      "execution_count": 7,
      "outputs": [
        {
          "output_type": "stream",
          "name": "stdout",
          "text": [
            "N-grams generated (Here n is 2) = \n",
            "['eos', 'the']\n",
            "['the', 'quick']\n",
            "['quick', 'brown']\n",
            "['brown', 'fox']\n",
            "['fox', 'jumps']\n",
            "['jumps', 'over']\n",
            "['over', 'the']\n",
            "['the', 'lazy']\n",
            "['lazy', 'dog']\n",
            "['dog', 'eos']\n",
            "Frequency of n-grams = \n",
            "eos the : 1\n",
            "the quick : 1\n",
            "quick brown : 1\n",
            "brown fox : 1\n",
            "fox jumps : 1\n",
            "jumps over : 1\n",
            "over the : 1\n",
            "the lazy : 1\n",
            "lazy dog : 1\n",
            "dog eos : 1\n",
            "Probability table = \n",
            "\n",
            "\tbrown\tdog\tthe\teos\tjumps\tover\tfox\tquick\tlazy\t\n",
            "brown\t0.0\t0.0\t0.0\t0.0\t0.0\t0.0\t1.0\t0.0\t0.0\t\n",
            "dog\t0.0\t0.0\t0.0\t1.0\t0.0\t0.0\t0.0\t0.0\t0.0\t\n",
            "the\t0.0\t0.0\t0.0\t0.0\t0.0\t0.0\t0.0\t0.5\t0.5\t\n",
            "eos\t0.0\t0.0\t0.5\t0.0\t0.0\t0.0\t0.0\t0.0\t0.0\t\n",
            "jumps\t0.0\t0.0\t0.0\t0.0\t0.0\t1.0\t0.0\t0.0\t0.0\t\n",
            "over\t0.0\t0.0\t1.0\t0.0\t0.0\t0.0\t0.0\t0.0\t0.0\t\n",
            "fox\t0.0\t0.0\t0.0\t0.0\t1.0\t0.0\t0.0\t0.0\t0.0\t\n",
            "quick\t1.0\t0.0\t0.0\t0.0\t0.0\t0.0\t0.0\t0.0\t0.0\t\n",
            "lazy\t0.0\t1.0\t0.0\t0.0\t0.0\t0.0\t0.0\t0.0\t0.0\t\n"
          ]
        }
      ]
    }
  ]
}