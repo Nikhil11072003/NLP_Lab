{
  "nbformat": 4,
  "nbformat_minor": 0,
  "metadata": {
    "colab": {
      "provenance": [],
      "authorship_tag": "ABX9TyNgB8ivXosvJcEdHjuKb0Pe",
      "include_colab_link": true
    },
    "kernelspec": {
      "name": "python3",
      "display_name": "Python 3"
    },
    "language_info": {
      "name": "python"
    }
  },
  "cells": [
    {
      "cell_type": "markdown",
      "metadata": {
        "id": "view-in-github",
        "colab_type": "text"
      },
      "source": [
        "<a href=\"https://colab.research.google.com/github/Nikhil11072003/NLP_Lab/blob/main/NLP_Exp4.ipynb\" target=\"_parent\"><img src=\"https://colab.research.google.com/assets/colab-badge.svg\" alt=\"Open In Colab\"/></a>"
      ]
    },
    {
      "cell_type": "code",
      "execution_count": 5,
      "metadata": {
        "colab": {
          "base_uri": "https://localhost:8080/"
        },
        "id": "xIZ3VWvvIbvu",
        "outputId": "090cab3e-a5e3-45c4-feb2-e7773a4538d4"
      },
      "outputs": [
        {
          "output_type": "stream",
          "name": "stdout",
          "text": [
            "Morpheme: play\n",
            "Generated Word: displaying\n"
          ]
        }
      ],
      "source": [
        "import random\n",
        "# Morpheme database (suffixes and prefixes)\n",
        "suffixes = ['ly', 'ing', 'ed', 'es']\n",
        "prefixes = ['un', 're', 'pre', 'dis']\n"
      ]
    },
    {
      "cell_type": "code",
      "source": [
        "# Function to perform morphological analysis and generate new words\n",
        "def generate_word(morpheme):\n",
        "    # Randomly choose a prefix and a suffix\n",
        "    prefix = random.choice(prefixes)\n",
        "    suffix = random.choice(suffixes)\n",
        "    # Combine morpheme, prefix, and suffix to generate a new word\n",
        "    new_word = prefix + morpheme + suffix\n",
        "    return new_word\n"
      ],
      "metadata": {
        "id": "X53TXmtGJr2r"
      },
      "execution_count": null,
      "outputs": []
    },
    {
      "cell_type": "code",
      "source": [
        "# Sample morpheme for analysis and word generation\n",
        "sample_morpheme = \"play\"\n",
        "# Generate a word using the given morpheme\n",
        "generated_word = generate_word(sample_morpheme)\n",
        "# Display the generated word\n",
        "print(f\"Morpheme: {sample_morpheme}\")\n",
        "print(f\"Generated Word: {generated_word}\")\n"
      ],
      "metadata": {
        "id": "sbkR7Z7TLOml"
      },
      "execution_count": null,
      "outputs": []
    }
  ]
}